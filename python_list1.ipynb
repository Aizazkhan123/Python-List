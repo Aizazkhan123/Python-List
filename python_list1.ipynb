{
 "cells": [
  {
   "cell_type": "markdown",
   "id": "continent-procedure",
   "metadata": {},
   "source": [
    "# Python List:\n",
    "A list is a container which holds comma-separated values (items or elements) between square brackets where items or elements need not all have the same type."
   ]
  },
  {
   "cell_type": "code",
   "execution_count": 3,
   "id": "referenced-handling",
   "metadata": {},
   "outputs": [
    {
     "name": "stdout",
     "output_type": "stream",
     "text": [
      "[5, 12, 13, 14]\n"
     ]
    }
   ],
   "source": [
    "my_list1 = [5, 12, 13, 14] # the list contains all integer values\n",
    "print(my_list1)\n"
   ]
  },
  {
   "cell_type": "markdown",
   "id": "specific-information",
   "metadata": {},
   "source": [
    "# list contains all string:"
   ]
  },
  {
   "cell_type": "code",
   "execution_count": 5,
   "id": "animated-leadership",
   "metadata": {},
   "outputs": [
    {
     "name": "stdout",
     "output_type": "stream",
     "text": [
      "['red', 'blue', 'black', 'white']\n"
     ]
    }
   ],
   "source": [
    " my_list2 = ['red', 'blue', 'black', 'white'] # the list contains all string\n",
    "print(my_list2)\n",
    "\n",
    "\n"
   ]
  },
  {
   "cell_type": "code",
   "execution_count": 6,
   "id": "deadly-reducing",
   "metadata": {},
   "outputs": [
    {
     "name": "stdout",
     "output_type": "stream",
     "text": [
      "['red', 12, 112.12]\n"
     ]
    }
   ],
   "source": [
    " my_list3 = ['red', 12, 112.12] # the list contains a string, an integer and a float values\n",
    "print(my_list3)"
   ]
  },
  {
   "cell_type": "markdown",
   "id": "aggressive-landing",
   "metadata": {},
   "source": [
    "# Use + operator to create a new list that is a concatenation of two lists and use * operator to repeat a list. See the following statements."
   ]
  },
  {
   "cell_type": "code",
   "execution_count": 7,
   "id": "artistic-bronze",
   "metadata": {
    "scrolled": true
   },
   "outputs": [
    {
     "name": "stdout",
     "output_type": "stream",
     "text": [
      "['White', 'Yellow', 'Red', 'Blue', 'Green', 'Black']\n",
      "4\n",
      "[1, 2, 3, 1, 2, 3, 1, 2, 3, 1, 2, 3]\n"
     ]
    }
   ],
   "source": [
    "color_list1 = [\"White\", \"Yellow\"]\n",
    "color_list2 = [\"Red\", \"Blue\"]\n",
    "color_list3 = [\"Green\", \"Black\"]\n",
    "color_list = color_list1 + color_list2 + color_list3\n",
    "print(color_list)\n",
    "number = [1,2,3]\n",
    "print(number[0]*4)\n",
    "print(number*4)\n"
   ]
  },
  {
   "cell_type": "markdown",
   "id": "beneficial-africa",
   "metadata": {},
   "source": [
    "# List indices"
   ]
  },
  {
   "cell_type": "code",
   "execution_count": 10,
   "id": "animated-prairie",
   "metadata": {
    "scrolled": true
   },
   "outputs": [
    {
     "name": "stdout",
     "output_type": "stream",
     "text": [
      "Red Black\n"
     ]
    },
    {
     "data": {
      "text/plain": [
       "'Black'"
      ]
     },
     "execution_count": 10,
     "metadata": {},
     "output_type": "execute_result"
    }
   ],
   "source": [
    "color_list=[\"Red\", \"Blue\", \"Green\", \"Black\"] # The list have four elementsindices start at 0 and end at 3\n",
    "color_list[0] # Return the First Element\n",
    "print(color_list[0],color_list[3]) # Print First and Last Elements\n",
    "color_list[-1] # Return Last Element\n",
    "    \n",
    "\n"
   ]
  },
  {
   "cell_type": "markdown",
   "id": "arctic-indie",
   "metadata": {},
   "source": [
    "# Add an item to the end of the list"
   ]
  },
  {
   "cell_type": "code",
   "execution_count": 11,
   "id": "dependent-stocks",
   "metadata": {},
   "outputs": [
    {
     "name": "stdout",
     "output_type": "stream",
     "text": [
      "['Red', 'Blue', 'Green', 'Black']\n",
      "['Red', 'Blue', 'Green', 'Black', 'Yellow']\n"
     ]
    }
   ],
   "source": [
    "color_list=[\"Red\", \"Blue\", \"Green\", \"Black\"]\n",
    "print(color_list)\n",
    "\n",
    "color_list.append(\"Yellow\")\n",
    "print(color_list)\n",
    "\n"
   ]
  },
  {
   "cell_type": "markdown",
   "id": "initial-thanksgiving",
   "metadata": {},
   "source": [
    "# Insert an item at a given position"
   ]
  },
  {
   "cell_type": "code",
   "execution_count": 12,
   "id": "impaired-competition",
   "metadata": {},
   "outputs": [
    {
     "name": "stdout",
     "output_type": "stream",
     "text": [
      "['Red', 'Blue', 'Green', 'Black']\n",
      "['Red', 'Blue', 'White', 'Green', 'Black']\n"
     ]
    }
   ],
   "source": [
    "color_list=[\"Red\", \"Blue\", \"Green\", \"Black\"]\n",
    "print(color_list)\n",
    "color_list.insert(2, \"White\") #Insert an item at third position\n",
    "print(color_list)\n"
   ]
  },
  {
   "cell_type": "markdown",
   "id": "accurate-queens",
   "metadata": {},
   "source": [
    "# Modify an element by using the index of the element"
   ]
  },
  {
   "cell_type": "code",
   "execution_count": 14,
   "id": "interim-moment",
   "metadata": {},
   "outputs": [
    {
     "name": "stdout",
     "output_type": "stream",
     "text": [
      "['Red', 'Blue', 'Green', 'Black']\n",
      "['Red', 'Blue', 'Yellow', 'Black']\n"
     ]
    }
   ],
   "source": [
    "color_list=[\"Red\", \"Blue\", \"Green\", \"Black\"]\n",
    "print(color_list)\n",
    "color_list[2]=\"Yellow\"  #Change the third color\n",
    "print(color_list)\n",
    "\n"
   ]
  },
  {
   "cell_type": "markdown",
   "id": "internal-newfoundland",
   "metadata": {},
   "source": [
    "# Remove an item from the list"
   ]
  },
  {
   "cell_type": "code",
   "execution_count": 15,
   "id": "creative-current",
   "metadata": {},
   "outputs": [
    {
     "name": "stdout",
     "output_type": "stream",
     "text": [
      "['Red', 'Blue', 'Green', 'Black']\n",
      "['Red', 'Blue', 'Green']\n"
     ]
    }
   ],
   "source": [
    "color_list=[\"Red\", \"Blue\", \"Green\", \"Black\"]\n",
    "print(color_list)\n",
    "color_list.remove(\"Black\")\n",
    "print(color_list)\n",
    "\n"
   ]
  },
  {
   "cell_type": "markdown",
   "id": "architectural-baltimore",
   "metadata": {},
   "source": [
    "# Remove all items from the list"
   ]
  },
  {
   "cell_type": "code",
   "execution_count": 16,
   "id": "sharing-night",
   "metadata": {},
   "outputs": [
    {
     "name": "stdout",
     "output_type": "stream",
     "text": [
      "['Red', 'Blue', 'Green', 'Black']\n",
      "[]\n"
     ]
    }
   ],
   "source": [
    "color_list=[\"Red\", \"Blue\", \"Green\", \"Black\"]\n",
    "print(color_list)\n",
    "color_list.clear()\n",
    "print(color_list)\n"
   ]
  },
  {
   "cell_type": "markdown",
   "id": "unknown-accounting",
   "metadata": {},
   "source": [
    "# Slicing list:\n",
    "This refers to the items of a list starting at index startIndex and stopping just before index endIndex. The default values for list are 0 (startIndex) and the end (endIndex) of the list. If you omit both indices, the slice makes a copy of the original list."
   ]
  },
  {
   "cell_type": "code",
   "execution_count": 18,
   "id": "renewable-luxury",
   "metadata": {},
   "outputs": [
    {
     "name": "stdout",
     "output_type": "stream",
     "text": [
      "['Red', 'Blue']\n"
     ]
    },
    {
     "data": {
      "text/plain": [
       "['Red', 'Blue']"
      ]
     },
     "execution_count": 18,
     "metadata": {},
     "output_type": "execute_result"
    }
   ],
   "source": [
    "color_list=[\"Red\", \"Blue\", \"Green\", \"Black\"] # The list have four elements indices start at 0 and end at 3\n",
    "print(color_list[0:2]) # cut first two items\n",
    "['Red', 'Blue']\n"
   ]
  },
  {
   "cell_type": "code",
   "execution_count": 19,
   "id": "occasional-fortune",
   "metadata": {},
   "outputs": [
    {
     "name": "stdout",
     "output_type": "stream",
     "text": [
      "['Blue']\n",
      "['Blue']\n"
     ]
    }
   ],
   "source": [
    ">>> color_list=[\"Red\", \"Blue\", \"Green\", \"Black\"] # The list have four elements indices start at 0 and end at 3\n",
    "print(color_list[1:2])\n",
    "\n",
    "print(color_list[1:-2])\n"
   ]
  },
  {
   "cell_type": "markdown",
   "id": "coupled-scale",
   "metadata": {},
   "source": [
    "# Remove the item at the given position in the list, and return it"
   ]
  },
  {
   "cell_type": "code",
   "execution_count": 20,
   "id": "governing-commander",
   "metadata": {},
   "outputs": [
    {
     "name": "stdout",
     "output_type": "stream",
     "text": [
      "['Red', 'Blue', 'Green', 'Black']\n",
      "['Red', 'Blue', 'Black']\n"
     ]
    },
    {
     "data": {
      "text/plain": [
       "['Red', 'Blue', 'Black']"
      ]
     },
     "execution_count": 20,
     "metadata": {},
     "output_type": "execute_result"
    }
   ],
   "source": [
    "color_list=[\"Red\", \"Blue\", \"Green\", \"Black\"]\n",
    "print(color_list)\n",
    "\n",
    "color_list.pop(2) # Remove second item and return it\n",
    "print(color_list)\n",
    "['Red', 'Blue', 'Black']"
   ]
  },
  {
   "cell_type": "markdown",
   "id": "mature-ivory",
   "metadata": {},
   "source": [
    "# Sort the items of the list in place"
   ]
  },
  {
   "cell_type": "code",
   "execution_count": 21,
   "id": "approximate-observer",
   "metadata": {},
   "outputs": [
    {
     "name": "stdout",
     "output_type": "stream",
     "text": [
      "['Red', 'Blue', 'Green', 'Black']\n",
      "['Black', 'Blue', 'Green', 'Red']\n"
     ]
    }
   ],
   "source": [
    "color_list=[\"Red\", \"Blue\", \"Green\", \"Black\"]\n",
    "print(color_list)\n",
    "\n",
    "color_list.sort(key=None, reverse=False)\n",
    "print(color_list)\n",
    "\n"
   ]
  },
  {
   "cell_type": "code",
   "execution_count": null,
   "id": "mighty-sunset",
   "metadata": {},
   "outputs": [],
   "source": []
  }
 ],
 "metadata": {
  "kernelspec": {
   "display_name": "Python 3",
   "language": "python",
   "name": "python3"
  },
  "language_info": {
   "codemirror_mode": {
    "name": "ipython",
    "version": 3
   },
   "file_extension": ".py",
   "mimetype": "text/x-python",
   "name": "python",
   "nbconvert_exporter": "python",
   "pygments_lexer": "ipython3",
   "version": "3.7.6"
  }
 },
 "nbformat": 4,
 "nbformat_minor": 5
}
